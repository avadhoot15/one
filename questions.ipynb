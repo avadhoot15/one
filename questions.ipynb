{
 "cells": [
  {
   "cell_type": "code",
   "execution_count": 12,
   "id": "d36cfa9c",
   "metadata": {},
   "outputs": [
    {
     "data": {
      "text/html": [
       "<div>\n",
       "<style scoped>\n",
       "    .dataframe tbody tr th:only-of-type {\n",
       "        vertical-align: middle;\n",
       "    }\n",
       "\n",
       "    .dataframe tbody tr th {\n",
       "        vertical-align: top;\n",
       "    }\n",
       "\n",
       "    .dataframe thead th {\n",
       "        text-align: right;\n",
       "    }\n",
       "</style>\n",
       "<table border=\"1\" class=\"dataframe\">\n",
       "  <thead>\n",
       "    <tr style=\"text-align: right;\">\n",
       "      <th></th>\n",
       "      <th>Frist Name</th>\n",
       "      <th>Last Name</th>\n",
       "      <th>Type</th>\n",
       "      <th>Department</th>\n",
       "      <th>yoE</th>\n",
       "      <th>Salary</th>\n",
       "    </tr>\n",
       "  </thead>\n",
       "  <tbody>\n",
       "    <tr>\n",
       "      <th>0</th>\n",
       "      <td>aryan</td>\n",
       "      <td>singh</td>\n",
       "      <td>full-time</td>\n",
       "      <td>administration</td>\n",
       "      <td>2</td>\n",
       "      <td>1000000</td>\n",
       "    </tr>\n",
       "    <tr>\n",
       "      <th>1</th>\n",
       "      <td>rohan</td>\n",
       "      <td>agarwal</td>\n",
       "      <td>intern</td>\n",
       "      <td>technical</td>\n",
       "      <td>3</td>\n",
       "      <td>500000</td>\n",
       "    </tr>\n",
       "    <tr>\n",
       "      <th>2</th>\n",
       "      <td>riya</td>\n",
       "      <td>shah</td>\n",
       "      <td>full-time</td>\n",
       "      <td>administration</td>\n",
       "      <td>5</td>\n",
       "      <td>101</td>\n",
       "    </tr>\n",
       "    <tr>\n",
       "      <th>3</th>\n",
       "      <td>yash</td>\n",
       "      <td>bhatia</td>\n",
       "      <td>part-time</td>\n",
       "      <td>technical</td>\n",
       "      <td>7</td>\n",
       "      <td>200000</td>\n",
       "    </tr>\n",
       "    <tr>\n",
       "      <th>4</th>\n",
       "      <td>sidhant</td>\n",
       "      <td>khanna</td>\n",
       "      <td>full-time</td>\n",
       "      <td>administration</td>\n",
       "      <td>6</td>\n",
       "      <td>100000</td>\n",
       "    </tr>\n",
       "  </tbody>\n",
       "</table>\n",
       "</div>"
      ],
      "text/plain": [
       "  Frist Name Last Name       Type      Department  yoE   Salary\n",
       "0      aryan     singh  full-time  administration    2  1000000\n",
       "1      rohan   agarwal     intern       technical    3   500000\n",
       "2       riya      shah  full-time  administration    5      101\n",
       "3       yash    bhatia  part-time       technical    7   200000\n",
       "4    sidhant    khanna  full-time  administration    6   100000"
      ]
     },
     "execution_count": 12,
     "metadata": {},
     "output_type": "execute_result"
    }
   ],
   "source": [
    "from pandas import DataFrame\n",
    "df = DataFrame(\n",
    "                    [\n",
    "                        ['aryan','singh','full-time','administration',2,1000000],\n",
    "                        ['rohan','agarwal','intern','technical',3,500000],\n",
    "                        ['riya','shah','full-time','administration',5,101],\n",
    "                        ['yash','bhatia','part-time','technical',7,200000],\n",
    "                        ['sidhant','khanna','full-time','administration',6,100000],\n",
    "                        \n",
    "                    ],columns=['Frist Name','Last Name','Type','Department','yoE','Salary']\n",
    "             )\n",
    "df"
   ]
  },
  {
   "cell_type": "code",
   "execution_count": null,
   "id": "ad33e7bf",
   "metadata": {},
   "outputs": [],
   "source": []
  }
 ],
 "metadata": {
  "kernelspec": {
   "display_name": "Python 3 (ipykernel)",
   "language": "python",
   "name": "python3"
  },
  "language_info": {
   "codemirror_mode": {
    "name": "ipython",
    "version": 3
   },
   "file_extension": ".py",
   "mimetype": "text/x-python",
   "name": "python",
   "nbconvert_exporter": "python",
   "pygments_lexer": "ipython3",
   "version": "3.9.12"
  }
 },
 "nbformat": 4,
 "nbformat_minor": 5
}
