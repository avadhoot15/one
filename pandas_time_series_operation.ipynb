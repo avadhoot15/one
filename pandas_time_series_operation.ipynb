{
 "cells": [
  {
   "cell_type": "markdown",
   "id": "6b0aed9c",
   "metadata": {},
   "source": [
    "# Time Series Operations"
   ]
  },
  {
   "cell_type": "markdown",
   "id": "98202e84",
   "metadata": {},
   "source": [
    "Time series include the date and time for every record and can fetch the records of dataframe. We can find out the data within a certain range of date and time by using pandas module named Time series"
   ]
  },
  {
   "cell_type": "code",
   "execution_count": 23,
   "id": "d34abcc8",
   "metadata": {},
   "outputs": [
    {
     "name": "stdout",
     "output_type": "stream",
     "text": [
      "DatetimeIndex(['2022-10-01 00:00:00', '2022-10-01 00:01:00',\n",
      "               '2022-10-01 00:02:00', '2022-10-01 00:03:00',\n",
      "               '2022-10-01 00:04:00', '2022-10-01 00:05:00',\n",
      "               '2022-10-01 00:06:00', '2022-10-01 00:07:00',\n",
      "               '2022-10-01 00:08:00', '2022-10-01 00:09:00',\n",
      "               ...\n",
      "               '2022-10-31 23:51:00', '2022-10-31 23:52:00',\n",
      "               '2022-10-31 23:53:00', '2022-10-31 23:54:00',\n",
      "               '2022-10-31 23:55:00', '2022-10-31 23:56:00',\n",
      "               '2022-10-31 23:57:00', '2022-10-31 23:58:00',\n",
      "               '2022-10-31 23:59:00', '2022-11-01 00:00:00'],\n",
      "              dtype='datetime64[ns]', length=44641, freq='T')\n"
     ]
    }
   ],
   "source": [
    "import numpy as np                                        \n",
    "import pandas as pd\n",
    "from datetime import datetime\n",
    "time = pd.date_range(start ='10/1/2022', end = '11/1/2022',freq = 'min')\n",
    "print(time)\n"
   ]
  },
  {
   "cell_type": "code",
   "execution_count": 19,
   "id": "b0cdbd25",
   "metadata": {},
   "outputs": [
    {
     "name": "stdout",
     "output_type": "stream",
     "text": [
      "DatetimeIndex(['2022-10-01 00:00:00', '2022-10-01 01:00:00',\n",
      "               '2022-10-01 02:00:00', '2022-10-01 03:00:00',\n",
      "               '2022-10-01 04:00:00', '2022-10-01 05:00:00',\n",
      "               '2022-10-01 06:00:00', '2022-10-01 07:00:00',\n",
      "               '2022-10-01 08:00:00', '2022-10-01 09:00:00',\n",
      "               ...\n",
      "               '2022-10-31 15:00:00', '2022-10-31 16:00:00',\n",
      "               '2022-10-31 17:00:00', '2022-10-31 18:00:00',\n",
      "               '2022-10-31 19:00:00', '2022-10-31 20:00:00',\n",
      "               '2022-10-31 21:00:00', '2022-10-31 22:00:00',\n",
      "               '2022-10-31 23:00:00', '2022-11-01 00:00:00'],\n",
      "              dtype='datetime64[ns]', length=745, freq='H')\n"
     ]
    }
   ],
   "source": [
    "import numpy as np                            #hours = H\n",
    "import pandas as pd\n",
    "from datetime import datetime\n",
    "time = pd.date_range(start ='10/1/2022', end = '11/1/2022',freq = 'H')\n",
    "print(time)\n"
   ]
  },
  {
   "cell_type": "code",
   "execution_count": 20,
   "id": "ff4b8c30",
   "metadata": {},
   "outputs": [
    {
     "name": "stdout",
     "output_type": "stream",
     "text": [
      "DatetimeIndex(['2022-10-02', '2022-10-09', '2022-10-16', '2022-10-23',\n",
      "               '2022-10-30'],\n",
      "              dtype='datetime64[ns]', freq='W-SUN')\n"
     ]
    }
   ],
   "source": [
    "import numpy as np\n",
    "import pandas as pd                              #weeks = w\n",
    "from datetime import datetime\n",
    "time = pd.date_range(start ='10/1/2022', end = '11/1/2022',freq = 'W')\n",
    "print(time)\n"
   ]
  },
  {
   "cell_type": "code",
   "execution_count": 14,
   "id": "934304e9",
   "metadata": {},
   "outputs": [
    {
     "name": "stdout",
     "output_type": "stream",
     "text": [
      "DatetimeIndex(['2022-10-01', '2022-10-02', '2022-10-03', '2022-10-04',\n",
      "               '2022-10-05', '2022-10-06', '2022-10-07', '2022-10-08',\n",
      "               '2022-10-09', '2022-10-10', '2022-10-11', '2022-10-12',\n",
      "               '2022-10-13', '2022-10-14', '2022-10-15', '2022-10-16',\n",
      "               '2022-10-17', '2022-10-18', '2022-10-19', '2022-10-20',\n",
      "               '2022-10-21', '2022-10-22', '2022-10-23', '2022-10-24',\n",
      "               '2022-10-25', '2022-10-26', '2022-10-27', '2022-10-28',\n",
      "               '2022-10-29', '2022-10-30', '2022-10-31', '2022-11-01'],\n",
      "              dtype='datetime64[ns]', freq='D')\n"
     ]
    }
   ],
   "source": [
    "import numpy as np\n",
    "import pandas as pd                                    #days = D\n",
    "from datetime import datetime\n",
    "time = pd.date_range(start ='10/1/2022', end = '11/1/2022',freq = 'D')\n",
    "print(time)\n"
   ]
  },
  {
   "cell_type": "code",
   "execution_count": 21,
   "id": "49bab800",
   "metadata": {},
   "outputs": [
    {
     "name": "stdout",
     "output_type": "stream",
     "text": [
      "DatetimeIndex(['2022-01-31', '2022-02-28', '2022-03-31', '2022-04-30',\n",
      "               '2022-05-31', '2022-06-30', '2022-07-31', '2022-08-31',\n",
      "               '2022-09-30', '2022-10-31', '2022-11-30'],\n",
      "              dtype='datetime64[ns]', freq='M')\n"
     ]
    }
   ],
   "source": [
    "import numpy as np\n",
    "import pandas as pd                     #months = M\n",
    "from datetime import datetime\n",
    "time = pd.date_range(start ='1/1/2022', end = '12/1/2022',freq = 'M')\n",
    "print(time)\n"
   ]
  },
  {
   "cell_type": "code",
   "execution_count": 22,
   "id": "81a68e01",
   "metadata": {},
   "outputs": [
    {
     "name": "stdout",
     "output_type": "stream",
     "text": [
      "DatetimeIndex(['2022-10-01 00:00:00', '2022-10-01 00:00:01',\n",
      "               '2022-10-01 00:00:02', '2022-10-01 00:00:03',\n",
      "               '2022-10-01 00:00:04', '2022-10-01 00:00:05',\n",
      "               '2022-10-01 00:00:06', '2022-10-01 00:00:07',\n",
      "               '2022-10-01 00:00:08', '2022-10-01 00:00:09',\n",
      "               ...\n",
      "               '2022-10-31 23:59:51', '2022-10-31 23:59:52',\n",
      "               '2022-10-31 23:59:53', '2022-10-31 23:59:54',\n",
      "               '2022-10-31 23:59:55', '2022-10-31 23:59:56',\n",
      "               '2022-10-31 23:59:57', '2022-10-31 23:59:58',\n",
      "               '2022-10-31 23:59:59', '2022-11-01 00:00:00'],\n",
      "              dtype='datetime64[ns]', length=2678401, freq='S')\n"
     ]
    }
   ],
   "source": [
    "import numpy as np\n",
    "import pandas as pd                         #seconds = S\n",
    "from datetime import datetime\n",
    "time = pd.date_range(start ='10/1/2022', end = '11/1/2022',freq = 'S')\n",
    "print(time)\n"
   ]
  },
  {
   "cell_type": "code",
   "execution_count": 25,
   "id": "e2fefaf5",
   "metadata": {},
   "outputs": [
    {
     "name": "stdout",
     "output_type": "stream",
     "text": [
      "                 DateTime\n",
      "0     2022-10-01 00:00:00\n",
      "1     2022-10-01 00:01:00\n",
      "2     2022-10-01 00:02:00\n",
      "3     2022-10-01 00:03:00\n",
      "4     2022-10-01 00:04:00\n",
      "...                   ...\n",
      "44636 2022-10-31 23:56:00\n",
      "44637 2022-10-31 23:57:00\n",
      "44638 2022-10-31 23:58:00\n",
      "44639 2022-10-31 23:59:00\n",
      "44640 2022-11-01 00:00:00\n",
      "\n",
      "[44641 rows x 1 columns]\n"
     ]
    }
   ],
   "source": [
    "import numpy as np\n",
    "import pandas as pd\n",
    "from datetime import datetime\n",
    "time = pd.date_range(start ='10/1/2022', end ='11/1/2022',freq ='Min')\n",
    "df = pd.DataFrame(time, columns=['DateTime'])\n",
    "print(df)\n"
   ]
  },
  {
   "cell_type": "code",
   "execution_count": 33,
   "id": "1e081805",
   "metadata": {},
   "outputs": [
    {
     "name": "stdout",
     "output_type": "stream",
     "text": [
      "                 DateTime  DATA\n",
      "0     2022-10-01 00:00:00    92\n",
      "1     2022-10-01 00:01:00    25\n",
      "2     2022-10-01 00:02:00    26\n",
      "3     2022-10-01 00:03:00    73\n",
      "4     2022-10-01 00:04:00    40\n",
      "...                   ...   ...\n",
      "44636 2022-10-31 23:56:00    55\n",
      "44637 2022-10-31 23:57:00    74\n",
      "44638 2022-10-31 23:58:00    36\n",
      "44639 2022-10-31 23:59:00    96\n",
      "44640 2022-11-01 00:00:00    75\n",
      "\n",
      "[44641 rows x 2 columns]\n"
     ]
    },
    {
     "data": {
      "text/html": [
       "<div>\n",
       "<style scoped>\n",
       "    .dataframe tbody tr th:only-of-type {\n",
       "        vertical-align: middle;\n",
       "    }\n",
       "\n",
       "    .dataframe tbody tr th {\n",
       "        vertical-align: top;\n",
       "    }\n",
       "\n",
       "    .dataframe thead th {\n",
       "        text-align: right;\n",
       "    }\n",
       "</style>\n",
       "<table border=\"1\" class=\"dataframe\">\n",
       "  <thead>\n",
       "    <tr style=\"text-align: right;\">\n",
       "      <th></th>\n",
       "      <th>DateTime</th>\n",
       "      <th>DATA</th>\n",
       "    </tr>\n",
       "  </thead>\n",
       "  <tbody>\n",
       "    <tr>\n",
       "      <th>0</th>\n",
       "      <td>2022-10-01 00:00:00</td>\n",
       "      <td>92</td>\n",
       "    </tr>\n",
       "    <tr>\n",
       "      <th>1</th>\n",
       "      <td>2022-10-01 00:01:00</td>\n",
       "      <td>25</td>\n",
       "    </tr>\n",
       "    <tr>\n",
       "      <th>2</th>\n",
       "      <td>2022-10-01 00:02:00</td>\n",
       "      <td>26</td>\n",
       "    </tr>\n",
       "    <tr>\n",
       "      <th>3</th>\n",
       "      <td>2022-10-01 00:03:00</td>\n",
       "      <td>73</td>\n",
       "    </tr>\n",
       "    <tr>\n",
       "      <th>4</th>\n",
       "      <td>2022-10-01 00:04:00</td>\n",
       "      <td>40</td>\n",
       "    </tr>\n",
       "    <tr>\n",
       "      <th>5</th>\n",
       "      <td>2022-10-01 00:05:00</td>\n",
       "      <td>56</td>\n",
       "    </tr>\n",
       "    <tr>\n",
       "      <th>6</th>\n",
       "      <td>2022-10-01 00:06:00</td>\n",
       "      <td>25</td>\n",
       "    </tr>\n",
       "    <tr>\n",
       "      <th>7</th>\n",
       "      <td>2022-10-01 00:07:00</td>\n",
       "      <td>91</td>\n",
       "    </tr>\n",
       "    <tr>\n",
       "      <th>8</th>\n",
       "      <td>2022-10-01 00:08:00</td>\n",
       "      <td>78</td>\n",
       "    </tr>\n",
       "    <tr>\n",
       "      <th>9</th>\n",
       "      <td>2022-10-01 00:09:00</td>\n",
       "      <td>79</td>\n",
       "    </tr>\n",
       "    <tr>\n",
       "      <th>10</th>\n",
       "      <td>2022-10-01 00:10:00</td>\n",
       "      <td>31</td>\n",
       "    </tr>\n",
       "    <tr>\n",
       "      <th>11</th>\n",
       "      <td>2022-10-01 00:11:00</td>\n",
       "      <td>79</td>\n",
       "    </tr>\n",
       "    <tr>\n",
       "      <th>12</th>\n",
       "      <td>2022-10-01 00:12:00</td>\n",
       "      <td>30</td>\n",
       "    </tr>\n",
       "    <tr>\n",
       "      <th>13</th>\n",
       "      <td>2022-10-01 00:13:00</td>\n",
       "      <td>58</td>\n",
       "    </tr>\n",
       "    <tr>\n",
       "      <th>14</th>\n",
       "      <td>2022-10-01 00:14:00</td>\n",
       "      <td>56</td>\n",
       "    </tr>\n",
       "    <tr>\n",
       "      <th>15</th>\n",
       "      <td>2022-10-01 00:15:00</td>\n",
       "      <td>85</td>\n",
       "    </tr>\n",
       "    <tr>\n",
       "      <th>16</th>\n",
       "      <td>2022-10-01 00:16:00</td>\n",
       "      <td>64</td>\n",
       "    </tr>\n",
       "    <tr>\n",
       "      <th>17</th>\n",
       "      <td>2022-10-01 00:17:00</td>\n",
       "      <td>34</td>\n",
       "    </tr>\n",
       "    <tr>\n",
       "      <th>18</th>\n",
       "      <td>2022-10-01 00:18:00</td>\n",
       "      <td>88</td>\n",
       "    </tr>\n",
       "    <tr>\n",
       "      <th>19</th>\n",
       "      <td>2022-10-01 00:19:00</td>\n",
       "      <td>8</td>\n",
       "    </tr>\n",
       "  </tbody>\n",
       "</table>\n",
       "</div>"
      ],
      "text/plain": [
       "              DateTime  DATA\n",
       "0  2022-10-01 00:00:00    92\n",
       "1  2022-10-01 00:01:00    25\n",
       "2  2022-10-01 00:02:00    26\n",
       "3  2022-10-01 00:03:00    73\n",
       "4  2022-10-01 00:04:00    40\n",
       "5  2022-10-01 00:05:00    56\n",
       "6  2022-10-01 00:06:00    25\n",
       "7  2022-10-01 00:07:00    91\n",
       "8  2022-10-01 00:08:00    78\n",
       "9  2022-10-01 00:09:00    79\n",
       "10 2022-10-01 00:10:00    31\n",
       "11 2022-10-01 00:11:00    79\n",
       "12 2022-10-01 00:12:00    30\n",
       "13 2022-10-01 00:13:00    58\n",
       "14 2022-10-01 00:14:00    56\n",
       "15 2022-10-01 00:15:00    85\n",
       "16 2022-10-01 00:16:00    64\n",
       "17 2022-10-01 00:17:00    34\n",
       "18 2022-10-01 00:18:00    88\n",
       "19 2022-10-01 00:19:00     8"
      ]
     },
     "execution_count": 33,
     "metadata": {},
     "output_type": "execute_result"
    }
   ],
   "source": [
    "import numpy as np\n",
    "import pandas as pd\n",
    "from datetime import datetime\n",
    "time = pd.date_range(start ='10/1/2022', end ='11/1/2022',freq ='Min')\n",
    "df = pd.DataFrame(time, columns=['DateTime'])\n",
    "df['DATA'] = np.random.randint(0,100,size=(len(time)))\n",
    "print(df)\n",
    "#df.head()\n",
    "df.head(20)"
   ]
  },
  {
   "cell_type": "code",
   "execution_count": null,
   "id": "ca6ffe66",
   "metadata": {},
   "outputs": [],
   "source": [
    "\n"
   ]
  }
 ],
 "metadata": {
  "kernelspec": {
   "display_name": "Python 3 (ipykernel)",
   "language": "python",
   "name": "python3"
  },
  "language_info": {
   "codemirror_mode": {
    "name": "ipython",
    "version": 3
   },
   "file_extension": ".py",
   "mimetype": "text/x-python",
   "name": "python",
   "nbconvert_exporter": "python",
   "pygments_lexer": "ipython3",
   "version": "3.9.12"
  }
 },
 "nbformat": 4,
 "nbformat_minor": 5
}
