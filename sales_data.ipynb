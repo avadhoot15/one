{
 "cells": [
  {
   "cell_type": "markdown",
   "id": "c07f4839",
   "metadata": {},
   "source": [
    "1. Write a Pandas program to create a Pivot table with multiple indexes from a given excel sheet (Salesdata.xlsx). "
   ]
  },
  {
   "cell_type": "code",
   "execution_count": null,
   "id": "790970fd",
   "metadata": {},
   "outputs": [],
   "source": []
  },
  {
   "cell_type": "markdown",
   "id": "f1fc7d9a",
   "metadata": {},
   "source": [
    "2. Write a Pandas program to create a Pivot table and find the total sale amount region wise, manager wise. \n"
   ]
  },
  {
   "cell_type": "code",
   "execution_count": null,
   "id": "1817316c",
   "metadata": {},
   "outputs": [],
   "source": []
  },
  {
   "cell_type": "markdown",
   "id": "01cb0510",
   "metadata": {},
   "source": [
    "3. Write a Pandas program to create a Pivot table and find the total sale amount region wise, manager wise, sales man wise. \n"
   ]
  },
  {
   "cell_type": "code",
   "execution_count": null,
   "id": "82eca446",
   "metadata": {},
   "outputs": [],
   "source": []
  },
  {
   "cell_type": "markdown",
   "id": "915e05d5",
   "metadata": {},
   "source": [
    "4. Write a Pandas program to create a Pivot table and find the item wise unit sold. \n"
   ]
  },
  {
   "cell_type": "code",
   "execution_count": null,
   "id": "a261760d",
   "metadata": {},
   "outputs": [],
   "source": []
  },
  {
   "cell_type": "markdown",
   "id": "8f14c3e6",
   "metadata": {},
   "source": [
    "5. Write a Pandas program to create a Pivot table and find the region wise total sale. \n"
   ]
  },
  {
   "cell_type": "code",
   "execution_count": null,
   "id": "027147ca",
   "metadata": {},
   "outputs": [],
   "source": []
  },
  {
   "cell_type": "markdown",
   "id": "99096195",
   "metadata": {},
   "source": [
    "6. Write a Pandas program to create a Pivot table and find the region wise, item wise unit sold. \n"
   ]
  },
  {
   "cell_type": "code",
   "execution_count": null,
   "id": "852573d7",
   "metadata": {},
   "outputs": [],
   "source": []
  },
  {
   "cell_type": "markdown",
   "id": "89db1fa5",
   "metadata": {},
   "source": [
    "7. Write a Pandas program to create a Pivot table and count the manager wise sale and mean value of sale amount. \n"
   ]
  },
  {
   "cell_type": "code",
   "execution_count": null,
   "id": "056d1777",
   "metadata": {},
   "outputs": [],
   "source": []
  },
  {
   "cell_type": "markdown",
   "id": "08cf853f",
   "metadata": {},
   "source": [
    "8. Write a Pandas program to create a Pivot table and find manager wise, salesman wise total sale and also display the sum of all sale amount at the bottom. \n"
   ]
  },
  {
   "cell_type": "code",
   "execution_count": null,
   "id": "8f5d1ca4",
   "metadata": {},
   "outputs": [],
   "source": []
  },
  {
   "cell_type": "markdown",
   "id": "3fb6d702",
   "metadata": {},
   "source": [
    "9. Write a Pandas program to create a Pivot table and find the total sale amount region wise, manager wise, sales man wise where Manager = \"Douglas\". \n"
   ]
  },
  {
   "cell_type": "code",
   "execution_count": null,
   "id": "4ff636ef",
   "metadata": {},
   "outputs": [],
   "source": []
  },
  {
   "cell_type": "markdown",
   "id": "35a4468c",
   "metadata": {},
   "source": [
    "10. Write a Pandas program to create a Pivot table and find the region wise Television and Home Theater sold. \n"
   ]
  },
  {
   "cell_type": "code",
   "execution_count": null,
   "id": "e7a3730a",
   "metadata": {},
   "outputs": [],
   "source": []
  },
  {
   "cell_type": "markdown",
   "id": "4de04d0c",
   "metadata": {},
   "source": [
    "11. Write a Pandas program to create a Pivot table and find the maximum sale value of the items. \n"
   ]
  },
  {
   "cell_type": "code",
   "execution_count": null,
   "id": "65b76057",
   "metadata": {},
   "outputs": [],
   "source": []
  },
  {
   "cell_type": "markdown",
   "id": "8b845f0a",
   "metadata": {},
   "source": [
    "12. Write a Pandas program to create a Pivot table and find the minimum sale value of the items. \n"
   ]
  },
  {
   "cell_type": "code",
   "execution_count": null,
   "id": "9cf07b2f",
   "metadata": {},
   "outputs": [],
   "source": []
  },
  {
   "cell_type": "markdown",
   "id": "0e1b8c59",
   "metadata": {},
   "source": [
    "13.Write a Pandas program to create a Pivot table and find the maximum and minimum sale value of the items. \n"
   ]
  },
  {
   "cell_type": "code",
   "execution_count": null,
   "id": "143cf6a8",
   "metadata": {},
   "outputs": [],
   "source": []
  }
 ],
 "metadata": {
  "kernelspec": {
   "display_name": "Python 3 (ipykernel)",
   "language": "python",
   "name": "python3"
  },
  "language_info": {
   "codemirror_mode": {
    "name": "ipython",
    "version": 3
   },
   "file_extension": ".py",
   "mimetype": "text/x-python",
   "name": "python",
   "nbconvert_exporter": "python",
   "pygments_lexer": "ipython3",
   "version": "3.9.12"
  }
 },
 "nbformat": 4,
 "nbformat_minor": 5
}
