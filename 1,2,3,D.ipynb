{
 "cells": [
  {
   "cell_type": "markdown",
   "id": "3f2e6322",
   "metadata": {},
   "source": [
    "# Load Numpy and check version"
   ]
  },
  {
   "cell_type": "code",
   "execution_count": 2,
   "id": "742ff3c5",
   "metadata": {},
   "outputs": [
    {
     "data": {
      "text/plain": [
       "'1.21.5'"
      ]
     },
     "execution_count": 2,
     "metadata": {},
     "output_type": "execute_result"
    }
   ],
   "source": [
    "import numpy as np\n",
    "np.__version__"
   ]
  },
  {
   "cell_type": "markdown",
   "id": "0d74528b",
   "metadata": {},
   "source": [
    "# creat an 1D array using array function"
   ]
  },
  {
   "cell_type": "code",
   "execution_count": 3,
   "id": "07a101f7",
   "metadata": {},
   "outputs": [
    {
     "name": "stdout",
     "output_type": "stream",
     "text": [
      "[2 3 4 5 6]\n",
      "int32\n",
      "(5,)\n"
     ]
    }
   ],
   "source": [
    "import numpy as np\n",
    "a = np.array([2,3,4,5,6])\n",
    "print(a)\n",
    "print(a.dtype)\n",
    "print(a.shape)"
   ]
  },
  {
   "cell_type": "markdown",
   "id": "e5c1614c",
   "metadata": {},
   "source": [
    "# create a 1D array using arange function"
   ]
  },
  {
   "cell_type": "code",
   "execution_count": 4,
   "id": "434de52d",
   "metadata": {},
   "outputs": [
    {
     "name": "stdout",
     "output_type": "stream",
     "text": [
      "[0 1 2 3 4]\n",
      "int32\n",
      "(5,)\n"
     ]
    }
   ],
   "source": [
    "import numpy as np\n",
    "a = np.arange(5)\n",
    "print(a)\n",
    "print(a.dtype)\n",
    "print(a.shape)"
   ]
  },
  {
   "cell_type": "markdown",
   "id": "db6b2a66",
   "metadata": {},
   "source": [
    "# create 2D array using array function"
   ]
  },
  {
   "cell_type": "code",
   "execution_count": 6,
   "id": "1889053d",
   "metadata": {},
   "outputs": [
    {
     "name": "stdout",
     "output_type": "stream",
     "text": [
      "[[2 3 4 5 6]\n",
      " [5 6 7 8 9]]\n",
      "int32\n",
      "(2, 5)\n"
     ]
    }
   ],
   "source": [
    "import numpy as np\n",
    "a = np.array([[2,3,4,5,6],[5,6,7,8,9]])\n",
    "print(a)\n",
    "print(a.dtype)\n",
    "print(a.shape)"
   ]
  },
  {
   "cell_type": "markdown",
   "id": "ecdca357",
   "metadata": {},
   "source": [
    "# create 2D array using arange function"
   ]
  },
  {
   "cell_type": "code",
   "execution_count": 8,
   "id": "74468c7e",
   "metadata": {},
   "outputs": [
    {
     "name": "stdout",
     "output_type": "stream",
     "text": [
      "[[0 1 2]\n",
      " [3 4 5]\n",
      " [6 7 8]]\n",
      "int32\n",
      "(3, 3)\n"
     ]
    }
   ],
   "source": [
    "import numpy as np\n",
    "a = np.arange(9).reshape(3,3)\n",
    "print(a)\n",
    "print(a.dtype)\n",
    "print(a.shape)"
   ]
  },
  {
   "cell_type": "markdown",
   "id": "b02c601c",
   "metadata": {},
   "source": [
    "# create 3D array using array fuction"
   ]
  },
  {
   "cell_type": "code",
   "execution_count": 3,
   "id": "b6ffe5d4",
   "metadata": {},
   "outputs": [
    {
     "name": "stdout",
     "output_type": "stream",
     "text": [
      "[[[2 3]\n",
      "  [5 6]]\n",
      "\n",
      " [[5 6]\n",
      "  [7 8]]\n",
      "\n",
      " [[2 3]\n",
      "  [5 6]]]\n",
      "int32\n",
      "(3, 2, 2)\n"
     ]
    }
   ],
   "source": [
    "import numpy as np\n",
    "a = np.array([[[2,3],[5,6]],[[5,6],[7,8]],[[2,3],[5,6]]])\n",
    "print(a)\n",
    "print(a.dtype)\n",
    "print(a.shape)"
   ]
  },
  {
   "cell_type": "markdown",
   "id": "97fc07a4",
   "metadata": {},
   "source": [
    "# create an 3D array using arange fuction"
   ]
  },
  {
   "cell_type": "code",
   "execution_count": 5,
   "id": "bd35268e",
   "metadata": {},
   "outputs": [
    {
     "name": "stdout",
     "output_type": "stream",
     "text": [
      "[[[ 0  1]\n",
      "  [ 2  3]]\n",
      "\n",
      " [[ 4  5]\n",
      "  [ 6  7]]\n",
      "\n",
      " [[ 8  9]\n",
      "  [10 11]]]\n",
      "int32\n",
      "(3, 2, 2)\n"
     ]
    }
   ],
   "source": [
    "import numpy as np\n",
    "a = np.arange(12).reshape(3,2,2)\n",
    "print(a)\n",
    "print(a.dtype)\n",
    "print(a.shape)"
   ]
  },
  {
   "cell_type": "markdown",
   "id": "a490524d",
   "metadata": {},
   "source": [
    "# creating array of ones "
   ]
  },
  {
   "cell_type": "code",
   "execution_count": 9,
   "id": "f0edd085",
   "metadata": {},
   "outputs": [
    {
     "name": "stdout",
     "output_type": "stream",
     "text": [
      "[1 1 1 1 1 1 1 1 1 1 1 1]\n",
      "int32\n",
      "(12,)\n"
     ]
    }
   ],
   "source": [
    "import numpy as np\n",
    "a = np.ones(12,dtype=np.int32)\n",
    "print(a)\n",
    "print(a.dtype)\n",
    "print(a.shape)"
   ]
  },
  {
   "cell_type": "code",
   "execution_count": 10,
   "id": "b3c3abc4",
   "metadata": {},
   "outputs": [
    {
     "name": "stdout",
     "output_type": "stream",
     "text": [
      "[[1 1 1]\n",
      " [1 1 1]]\n",
      "int32\n",
      "(2, 3)\n"
     ]
    }
   ],
   "source": [
    "import numpy as np\n",
    "a = np.ones((2,3),dtype=np.int32)\n",
    "print(a)\n",
    "print(a.dtype)\n",
    "print(a.shape)"
   ]
  },
  {
   "cell_type": "markdown",
   "id": "2dc9ba9b",
   "metadata": {},
   "source": [
    "# create an array with random numbers D"
   ]
  },
  {
   "cell_type": "code",
   "execution_count": 16,
   "id": "e16c0929",
   "metadata": {},
   "outputs": [
    {
     "name": "stdout",
     "output_type": "stream",
     "text": [
      "[2 2 2 2 2]\n",
      "int32\n",
      "(5,)\n"
     ]
    }
   ],
   "source": [
    "import numpy as np\n",
    "a = np.random.randint(2,3,size=5)\n",
    "print(a)\n",
    "print(a.dtype)\n",
    "print(a.shape)"
   ]
  },
  {
   "cell_type": "code",
   "execution_count": 20,
   "id": "9c5b6c63",
   "metadata": {},
   "outputs": [
    {
     "name": "stdout",
     "output_type": "stream",
     "text": [
      "[[9 6 7]\n",
      " [9 9 5]]\n"
     ]
    }
   ],
   "source": [
    "import numpy as np\n",
    "a = np.random.randint(5,10,size=(2,3))\n",
    "print(a)"
   ]
  },
  {
   "cell_type": "code",
   "execution_count": 21,
   "id": "d4d494ca",
   "metadata": {},
   "outputs": [
    {
     "name": "stdout",
     "output_type": "stream",
     "text": [
      "[[[9 9 8]\n",
      "  [8 5 9]\n",
      "  [5 5 5]]\n",
      "\n",
      " [[9 8 9]\n",
      "  [9 6 7]\n",
      "  [8 5 6]]\n",
      "\n",
      " [[9 6 8]\n",
      "  [7 5 8]\n",
      "  [7 9 9]]]\n"
     ]
    }
   ],
   "source": [
    "import numpy as np\n",
    "a = np.random.randint(5,10,size=(3,3,3))\n",
    "print(a)"
   ]
  },
  {
   "cell_type": "markdown",
   "id": "423ccdb7",
   "metadata": {},
   "source": [
    "# creating random numbers with upper bond"
   ]
  },
  {
   "cell_type": "code",
   "execution_count": 25,
   "id": "6f31a3c4",
   "metadata": {},
   "outputs": [
    {
     "name": "stdout",
     "output_type": "stream",
     "text": [
      "[ 7 17 25]\n"
     ]
    }
   ],
   "source": [
    "import numpy as np\n",
    "a = np.random.randint(5,[10,20,30])\n",
    "print(a)"
   ]
  },
  {
   "cell_type": "code",
   "execution_count": 27,
   "id": "39035072",
   "metadata": {},
   "outputs": [
    {
     "name": "stdout",
     "output_type": "stream",
     "text": [
      "[[10 13  7]\n",
      " [11 12 14]]\n"
     ]
    }
   ],
   "source": [
    "import numpy as np\n",
    "a = np.random.randint([5,8,6],20,size=(2,3))\n",
    "print(a)"
   ]
  },
  {
   "cell_type": "code",
   "execution_count": 31,
   "id": "f4a14e93",
   "metadata": {},
   "outputs": [
    {
     "name": "stdout",
     "output_type": "stream",
     "text": [
      "[[ 8 10 14]\n",
      " [ 9 15 10]]\n"
     ]
    }
   ],
   "source": [
    "import numpy as np\n",
    "a = np.random.randint((5,6,7),(10,20,30),size=(2,3))\n",
    "print(a)"
   ]
  },
  {
   "cell_type": "markdown",
   "id": "089fd4f1",
   "metadata": {},
   "source": [
    "# random randn and rand function"
   ]
  },
  {
   "cell_type": "code",
   "execution_count": 4,
   "id": "ab125991",
   "metadata": {},
   "outputs": [
    {
     "name": "stdout",
     "output_type": "stream",
     "text": [
      "[-0.0478104   0.53468727  1.19196808]\n",
      "float64\n",
      "(3,)\n"
     ]
    }
   ],
   "source": [
    "import numpy as np\n",
    "a = np.random.randn(3)\n",
    "print(a)\n",
    "print(a.dtype)\n",
    "print(a.shape)"
   ]
  },
  {
   "cell_type": "code",
   "execution_count": 5,
   "id": "da88e7fd",
   "metadata": {},
   "outputs": [
    {
     "name": "stdout",
     "output_type": "stream",
     "text": [
      "[[ 0.47977288  0.73739891 -1.02319045 -1.36968637  1.39101844]\n",
      " [ 1.59074903  1.19137308  0.05806618 -0.11608335 -0.1014277 ]]\n",
      "float64\n",
      "(2, 5)\n"
     ]
    }
   ],
   "source": [
    "import numpy as np\n",
    "a = np.random.randn(2,5)\n",
    "print(a)\n",
    "print(a.dtype)\n",
    "print(a.shape)"
   ]
  },
  {
   "cell_type": "code",
   "execution_count": 11,
   "id": "70dcbf9b",
   "metadata": {},
   "outputs": [
    {
     "name": "stdout",
     "output_type": "stream",
     "text": [
      "[[0.70627899 0.98714931 0.16907242 0.60815548 0.94225248]\n",
      " [0.19261677 0.26581659 0.23984683 0.55328013 0.025551  ]]\n",
      "float64\n",
      "(2, 5)\n"
     ]
    }
   ],
   "source": [
    "import numpy as np\n",
    "a = np.random.rand(2,5)\n",
    "print(a)\n",
    "print(a.dtype)\n",
    "print(a.shape)"
   ]
  },
  {
   "cell_type": "markdown",
   "id": "c91c1216",
   "metadata": {},
   "source": [
    "# array indexing"
   ]
  },
  {
   "cell_type": "code",
   "execution_count": 15,
   "id": "9340cc6a",
   "metadata": {},
   "outputs": [
    {
     "name": "stdout",
     "output_type": "stream",
     "text": [
      "4\n"
     ]
    }
   ],
   "source": [
    "import numpy as np\n",
    "a = np.array([2,3,4,5])\n",
    "print(a[2])"
   ]
  },
  {
   "cell_type": "code",
   "execution_count": 17,
   "id": "b823fc40",
   "metadata": {},
   "outputs": [
    {
     "name": "stdout",
     "output_type": "stream",
     "text": [
      "6\n"
     ]
    }
   ],
   "source": [
    "import numpy as np\n",
    "a = np.array([[2,3,4,5],[9,8,6,7]])\n",
    "print(a[1,2])"
   ]
  },
  {
   "cell_type": "code",
   "execution_count": 19,
   "id": "a3472869",
   "metadata": {},
   "outputs": [
    {
     "name": "stdout",
     "output_type": "stream",
     "text": [
      "7\n"
     ]
    }
   ],
   "source": [
    "import numpy as np\n",
    "a = np.array([[[2,3],[4,5]],[[6,7],[8,9]]])\n",
    "print(a[1,0,1])"
   ]
  },
  {
   "cell_type": "code",
   "execution_count": 20,
   "id": "a8885c38",
   "metadata": {},
   "outputs": [
    {
     "name": "stdout",
     "output_type": "stream",
     "text": [
      "7\n"
     ]
    }
   ],
   "source": [
    "import numpy as np\n",
    "a = np.array([[[2,3],[4,5]],[[6,7],[8,9]]])\n",
    "print(a[-1,0,-1])"
   ]
  },
  {
   "cell_type": "code",
   "execution_count": 21,
   "id": "ec211b21",
   "metadata": {},
   "outputs": [
    {
     "name": "stdout",
     "output_type": "stream",
     "text": [
      "4\n"
     ]
    }
   ],
   "source": [
    "import numpy as np\n",
    "a = np.array([[[2,3],[4,5]],[[6,7],[8,9]]])\n",
    "print(a[-2,-1,-2])"
   ]
  },
  {
   "cell_type": "markdown",
   "id": "609a75f5",
   "metadata": {},
   "source": [
    "# array numpy slicing"
   ]
  },
  {
   "cell_type": "raw",
   "id": "b132916e",
   "metadata": {},
   "source": [
    "slice element from index 1 to index 5 from the following array:"
   ]
  },
  {
   "cell_type": "code",
   "execution_count": 4,
   "id": "769fab80",
   "metadata": {},
   "outputs": [
    {
     "name": "stdout",
     "output_type": "stream",
     "text": [
      "[2 3 4 5]\n"
     ]
    }
   ],
   "source": [
    "import numpy as np\n",
    "a = np.array([1,2,3,4,5])\n",
    "print(a[1:5])"
   ]
  },
  {
   "cell_type": "raw",
   "id": "856fa0bc",
   "metadata": {},
   "source": [
    "slice element from index 4 to the end of the array"
   ]
  },
  {
   "cell_type": "code",
   "execution_count": 5,
   "id": "7a32894a",
   "metadata": {},
   "outputs": [
    {
     "name": "stdout",
     "output_type": "stream",
     "text": [
      "[5 6 7]\n"
     ]
    }
   ],
   "source": [
    "import numpy as np\n",
    "a = np.array([1,2,3,4,5,6,7])\n",
    "print(a[4:])"
   ]
  },
  {
   "cell_type": "raw",
   "id": "515d6041",
   "metadata": {},
   "source": [
    "slice element from the bedinning to  index 4 (not included):"
   ]
  },
  {
   "cell_type": "code",
   "execution_count": 6,
   "id": "3b3ad972",
   "metadata": {},
   "outputs": [
    {
     "name": "stdout",
     "output_type": "stream",
     "text": [
      "[1 2 3 4]\n"
     ]
    }
   ],
   "source": [
    "import numpy as np\n",
    "a = np.array([1,2,3,4,5,6,7])\n",
    "print(a[:4])"
   ]
  },
  {
   "cell_type": "markdown",
   "id": "96b74b86",
   "metadata": {},
   "source": [
    "# negative slicing"
   ]
  },
  {
   "cell_type": "raw",
   "id": "22afba18",
   "metadata": {},
   "source": [
    "slice from the index 3 from the end to the index 1 from the end"
   ]
  },
  {
   "cell_type": "code",
   "execution_count": 8,
   "id": "dc63c460",
   "metadata": {},
   "outputs": [
    {
     "name": "stdout",
     "output_type": "stream",
     "text": [
      "[5 6]\n"
     ]
    }
   ],
   "source": [
    "import numpy as np\n",
    "a = np.array([1,2,3,4,5,6,7])\n",
    "print(a[-3:-1])"
   ]
  },
  {
   "cell_type": "raw",
   "id": "fa2746f4",
   "metadata": {},
   "source": [
    "return every other element from index 1 to index 5"
   ]
  },
  {
   "cell_type": "code",
   "execution_count": 10,
   "id": "d8a34783",
   "metadata": {},
   "outputs": [
    {
     "name": "stdout",
     "output_type": "stream",
     "text": [
      "[2 4]\n"
     ]
    }
   ],
   "source": [
    "import numpy as np\n",
    "a = np.array([1,2,3,4,5,6,7])\n",
    "print(a[1:5:2])"
   ]
  },
  {
   "cell_type": "raw",
   "id": "5e9cbae7",
   "metadata": {},
   "source": [
    "return every other element from entire array"
   ]
  },
  {
   "cell_type": "code",
   "execution_count": 13,
   "id": "dbf5e74a",
   "metadata": {},
   "outputs": [
    {
     "name": "stdout",
     "output_type": "stream",
     "text": [
      "[1 3 5 7]\n"
     ]
    }
   ],
   "source": [
    "import numpy as np\n",
    "a = np.array([1,2,3,4,5,6,7])\n",
    "print(a[::2])"
   ]
  },
  {
   "cell_type": "markdown",
   "id": "15e203ef",
   "metadata": {},
   "source": [
    "# slicing 2-D Array"
   ]
  },
  {
   "cell_type": "raw",
   "id": "487286ad",
   "metadata": {},
   "source": [
    "from the second element, slice element from index 1 to index 4 (not inclued):"
   ]
  },
  {
   "cell_type": "code",
   "execution_count": 15,
   "id": "c46846a3",
   "metadata": {},
   "outputs": [
    {
     "name": "stdout",
     "output_type": "stream",
     "text": [
      "[6 7 8]\n"
     ]
    }
   ],
   "source": [
    "import numpy as np\n",
    "a = np.array([[1,2,3,4,5,9],[5,6,7,8,9,0]])\n",
    "print(a[1,1:4])"
   ]
  },
  {
   "cell_type": "raw",
   "id": "8efb8ea0",
   "metadata": {},
   "source": [
    "from both arrays, return index 2:"
   ]
  },
  {
   "cell_type": "code",
   "execution_count": 19,
   "id": "461ccd0f",
   "metadata": {},
   "outputs": [
    {
     "name": "stdout",
     "output_type": "stream",
     "text": [
      "[3 7]\n"
     ]
    }
   ],
   "source": [
    "import numpy as np\n",
    "a = np.array([[1,2,3,4,5,9],[5,6,7,8,9,0]])\n",
    "print(a[0:2,2])"
   ]
  },
  {
   "cell_type": "raw",
   "id": "15dbf4d8",
   "metadata": {},
   "source": [
    "from both elements, slice index 1 to index 4 (not included), this will return 2D array:"
   ]
  },
  {
   "cell_type": "code",
   "execution_count": 21,
   "id": "6d20c2cd",
   "metadata": {},
   "outputs": [
    {
     "name": "stdout",
     "output_type": "stream",
     "text": [
      "[[2 3 4]\n",
      " [6 7 8]]\n"
     ]
    }
   ],
   "source": [
    "import numpy as np\n",
    "a = np.array([[1,2,3,4,5,9],[5,6,7,8,9,0]])\n",
    "print(a[0:,1:4])"
   ]
  },
  {
   "cell_type": "markdown",
   "id": "3dbf91f0",
   "metadata": {},
   "source": [
    "# numpay array copy vs view"
   ]
  },
  {
   "cell_type": "markdown",
   "id": "75fe83c8",
   "metadata": {},
   "source": [
    "The copy owns the data and any changes made to the copy will not affect original array, and any changes made to the original array will not affect the copy. The view does not own the data and any changes made to the view will affect the original array, and any changes made to the original array will affect the view."
   ]
  },
  {
   "cell_type": "markdown",
   "id": "085a634f",
   "metadata": {},
   "source": [
    "# copy"
   ]
  },
  {
   "cell_type": "code",
   "execution_count": 1,
   "id": "11b8d162",
   "metadata": {},
   "outputs": [
    {
     "name": "stdout",
     "output_type": "stream",
     "text": [
      "[ 1  3 11  7  9]\n",
      "[1 4 5 7 9]\n"
     ]
    }
   ],
   "source": [
    "import numpy as np\n",
    "arr=np.array([1,3,5,7,9])\n",
    "x=arr.copy()\n",
    "arr[2]=11\n",
    "print(arr)\n",
    "x[1]=4\n",
    "print(x)"
   ]
  },
  {
   "cell_type": "code",
   "execution_count": 2,
   "id": "3495d68a",
   "metadata": {},
   "outputs": [
    {
     "name": "stdout",
     "output_type": "stream",
     "text": [
      "[ 1  3 11  7  9]\n",
      "[ 1  3 11  7  9]\n"
     ]
    }
   ],
   "source": [
    "import numpy as np\n",
    "arr=np.array([1,3,5,7,9])\n",
    "x=arr.view()\n",
    "arr[2]=11\n",
    "print(arr)\n",
    "print(x)"
   ]
  },
  {
   "cell_type": "markdown",
   "id": "2d480fc7",
   "metadata": {},
   "source": [
    "# reshaping"
   ]
  },
  {
   "cell_type": "markdown",
   "id": "117086d9",
   "metadata": {},
   "source": [
    "Reshaping means changing the shape of an array. The shape of an array is the number of elements in each dimension. By reshaping we can add or remove dimensions or change number of elements in each dimension."
   ]
  },
  {
   "cell_type": "code",
   "execution_count": 3,
   "id": "a953c33f",
   "metadata": {},
   "outputs": [
    {
     "name": "stdout",
     "output_type": "stream",
     "text": [
      "[1 3 5 7]\n",
      "[[1 3]\n",
      " [5 7]]\n"
     ]
    }
   ],
   "source": [
    "import numpy as np\n",
    "arr=np.array([1,3,5,7])\n",
    "print(arr)\n",
    "x=arr.reshape(2,2)\n",
    "print(x)"
   ]
  },
  {
   "cell_type": "code",
   "execution_count": 4,
   "id": "cf0c7dda",
   "metadata": {},
   "outputs": [
    {
     "name": "stdout",
     "output_type": "stream",
     "text": [
      "[[[ 1  3]\n",
      "  [ 5  7]\n",
      "  [ 9 11]]\n",
      "\n",
      " [[13 15]\n",
      "  [17 19]\n",
      "  [21 23]]]\n"
     ]
    }
   ],
   "source": [
    "import numpy as np\n",
    "arr=np.array([1,3,5,7,9,11,13,15,17,19,21,23])\n",
    "x=arr.reshape(2,3,2)\n",
    "print(x)"
   ]
  },
  {
   "cell_type": "code",
   "execution_count": 5,
   "id": "9e57055b",
   "metadata": {},
   "outputs": [
    {
     "name": "stdout",
     "output_type": "stream",
     "text": [
      "[[[ 1  3]\n",
      "  [ 5  7]]\n",
      "\n",
      " [[ 9 11]\n",
      "  [13 15]]\n",
      "\n",
      " [[17 19]\n",
      "  [21 23]]]\n"
     ]
    }
   ],
   "source": [
    "import numpy as np\n",
    "arr=np.array([1,3,5,7,9,11,13,15,17,19,21,23])\n",
    "x=arr.reshape(3,2,2)\n",
    "print(x)"
   ]
  },
  {
   "cell_type": "markdown",
   "id": "dab7617d",
   "metadata": {},
   "source": [
    "# sum"
   ]
  },
  {
   "cell_type": "code",
   "execution_count": 7,
   "id": "f5411df5",
   "metadata": {},
   "outputs": [
    {
     "name": "stdout",
     "output_type": "stream",
     "text": [
      "20\n"
     ]
    }
   ],
   "source": [
    "#np.sum(array_name): Returns the sum of array elements (all row and columns).\n",
    "import numpy as np\n",
    "a=np.array([2,4,6,8])\n",
    "print(np.sum(a))"
   ]
  },
  {
   "cell_type": "code",
   "execution_count": 8,
   "id": "6f564101",
   "metadata": {},
   "outputs": [
    {
     "name": "stdout",
     "output_type": "stream",
     "text": [
      "36\n"
     ]
    }
   ],
   "source": [
    "import numpy as np \n",
    "a=np.array([[2,4,6,8],[1,3,5,7]] )\n",
    "print(np.sum(a))"
   ]
  },
  {
   "cell_type": "code",
   "execution_count": 9,
   "id": "2d8dc0c5",
   "metadata": {},
   "outputs": [
    {
     "name": "stdout",
     "output_type": "stream",
     "text": [
      "36\n",
      " accross rows\n",
      "[ 3  7 11 15]\n",
      "accross columns\n",
      "[20 16]\n"
     ]
    }
   ],
   "source": [
    "#np.sum(array_name, axis=0 or 1): Returns the sum of array elements over a given axis.\n",
    "import numpy as np \n",
    "a=np.array([[2,4,6,8],[1,3,5,7]] )\n",
    "print(np.sum(a))\n",
    "print(\" accross rows\")\n",
    "print(np.sum(a, axis=0))\n",
    "print(\"accross columns\")\n",
    "print(np.sum(a, axis=1))"
   ]
  },
  {
   "cell_type": "code",
   "execution_count": 10,
   "id": "b4c174f4",
   "metadata": {},
   "outputs": [
    {
     "name": "stdout",
     "output_type": "stream",
     "text": [
      "42\n",
      " accross rows\n",
      "[[1 2 3 4]\n",
      " [2 3 4 5]\n",
      " [3 4 5 6]]\n",
      "accross columns\n",
      "[[ 6  9 12 15]]\n"
     ]
    }
   ],
   "source": [
    "import numpy as np\n",
    "a=np.array([[[1,2,3,4],[2,3,4,5],[3,4,5,6]]])\n",
    "print(np.sum(a))\n",
    "print(\" accross rows\")\n",
    "print(np.sum(a, axis=0))\n",
    "print(\"accross columns\")\n",
    "print(np.sum(a, axis=1))"
   ]
  },
  {
   "cell_type": "markdown",
   "id": "2abd269a",
   "metadata": {},
   "source": [
    "# mean"
   ]
  },
  {
   "cell_type": "code",
   "execution_count": 11,
   "id": "2f28a5e6",
   "metadata": {},
   "outputs": [
    {
     "name": "stdout",
     "output_type": "stream",
     "text": [
      "[2 4 6 8]\n",
      "5.0\n"
     ]
    }
   ],
   "source": [
    "#np.mean(array_name): Computes the arithmetic mean of given array (all row and columns).\n",
    "import numpy as np\n",
    "a=np.array([2,4,6,8])\n",
    "print(a)\n",
    "print(np.mean(a))"
   ]
  },
  {
   "cell_type": "code",
   "execution_count": 12,
   "id": "6a59edd8",
   "metadata": {},
   "outputs": [
    {
     "name": "stdout",
     "output_type": "stream",
     "text": [
      "[[2 4 6 8]\n",
      " [1 3 5 7]]\n",
      "4.5\n"
     ]
    }
   ],
   "source": [
    "import numpy as np\n",
    "a=np.array([[2,4,6,8],[1,3,5,7]])\n",
    "print(a)\n",
    "print(np.mean(a))"
   ]
  },
  {
   "cell_type": "code",
   "execution_count": 13,
   "id": "f2435879",
   "metadata": {},
   "outputs": [
    {
     "name": "stdout",
     "output_type": "stream",
     "text": [
      "[[2 4 6 8]\n",
      " [1 3 5 7]]\n",
      "\n",
      " accross rows [1.5 3.5 5.5 7.5]\n",
      "\n",
      " accross cloumns [5. 4.]\n"
     ]
    }
   ],
   "source": [
    "#np.mean(array_name, axis=0 or 1): Returns the arithmetic mean of given array elements over a given axis.\n",
    "\n",
    "import numpy as np \n",
    "a=np.array([[2,4,6,8],[1,3,5,7]] )\n",
    "print(a)\n",
    "print(\"\\n accross rows\" ,np.mean(a, axis=0))\n",
    "print(\"\\n accross cloumns\" ,np.mean(a, axis=1))"
   ]
  },
  {
   "cell_type": "markdown",
   "id": "0aff74bf",
   "metadata": {},
   "source": [
    "# standard deviation"
   ]
  },
  {
   "cell_type": "code",
   "execution_count": 14,
   "id": "322d4263",
   "metadata": {},
   "outputs": [
    {
     "name": "stdout",
     "output_type": "stream",
     "text": [
      "[1 2 3 4]\n",
      "1.118033988749895\n"
     ]
    }
   ],
   "source": [
    "#np.std(array_name): Computes the standard deviation along the specified axis. (all row and columns).\n",
    "\n",
    "import numpy as np\n",
    "arr=np.array([1,2,3,4])\n",
    "print(arr)\n",
    "print(np.std(arr))\n"
   ]
  },
  {
   "cell_type": "code",
   "execution_count": 15,
   "id": "7efe0fc9",
   "metadata": {},
   "outputs": [
    {
     "name": "stdout",
     "output_type": "stream",
     "text": [
      "[[1 2 3 4]\n",
      " [5 6 7 8]]\n",
      "2.29128784747792\n",
      "accross rows\n",
      "[2. 2. 2. 2.]\n",
      "accross columns\n",
      "[1.11803399 1.11803399]\n"
     ]
    }
   ],
   "source": [
    "#np.std(array_name, axis= 0 or 1): Computes the standard deviation along the specified axis.\n",
    "import numpy as np\n",
    "arr=np.array([[1,2,3,4],[5,6,7,8]])\n",
    "print(arr)\n",
    "print(np.std(arr))\n",
    "print(\"accross rows\")\n",
    "print(np.std(arr, axis=0))\n",
    "print(\"accross columns\")\n",
    "print(np.std(arr, axis=1))"
   ]
  },
  {
   "cell_type": "markdown",
   "id": "d46d68ba",
   "metadata": {},
   "source": [
    "# variance"
   ]
  },
  {
   "cell_type": "code",
   "execution_count": 16,
   "id": "f01fdfc9",
   "metadata": {},
   "outputs": [
    {
     "name": "stdout",
     "output_type": "stream",
     "text": [
      "[1 2 3 4]\n",
      "1.25\n"
     ]
    }
   ],
   "source": [
    "#np.var(array_name): Computes the variance along the specified axis. (all row and columns).\n",
    "import numpy as np\n",
    "arr=np.array([1,2,3,4])\n",
    "print(arr)\n",
    "print(np.var(arr))"
   ]
  },
  {
   "cell_type": "code",
   "execution_count": 17,
   "id": "f71e4e9b",
   "metadata": {},
   "outputs": [
    {
     "name": "stdout",
     "output_type": "stream",
     "text": [
      "\n",
      " [[1 2 3 4]\n",
      " [2 4 6 8]]\n",
      "\n",
      " 4.6875\n",
      "\n",
      " [0.25 1.   2.25 4.  ]\n",
      "\n",
      " [1.25 5.  ]\n"
     ]
    }
   ],
   "source": [
    "#np.var(array_name, axis= 0 or 1): Computes the variance along the specified axis.\n",
    "import numpy as np\n",
    "arr=np.array([[1,2,3,4],[2,4,6,8]])\n",
    "print(\"\\n\",arr)\n",
    "print(\"\\n\",np.var(arr))\n",
    "print(\"\\n\",np.var(arr, axis=0))\n",
    "print(\"\\n\",np.var(arr, axis=1))"
   ]
  },
  {
   "cell_type": "markdown",
   "id": "f7e20b8d",
   "metadata": {},
   "source": [
    "# minimum"
   ]
  },
  {
   "cell_type": "code",
   "execution_count": 18,
   "id": "9a6a7e47",
   "metadata": {},
   "outputs": [
    {
     "name": "stdout",
     "output_type": "stream",
     "text": [
      "[1 2 3 4 5 6 7]\n",
      "1\n"
     ]
    }
   ],
   "source": [
    "#np.min(array_name): Returns the indices of the minimum values along an axis.. (all row and columns).\n",
    "import numpy as np\n",
    "arr=np.array([1,2,3,4,5,6,7])\n",
    "print(arr)\n",
    "print(np.min(arr))"
   ]
  },
  {
   "cell_type": "code",
   "execution_count": 19,
   "id": "4ae93490",
   "metadata": {},
   "outputs": [
    {
     "name": "stdout",
     "output_type": "stream",
     "text": [
      "[[ 1  2  3  4]\n",
      " [11 12 13 14]]\n",
      "1\n"
     ]
    }
   ],
   "source": [
    "import numpy as np\n",
    "arr=np.array([[1,2,3,4],[11,12,13,14]])\n",
    "print(arr)\n",
    "print(np.min(arr))"
   ]
  },
  {
   "cell_type": "code",
   "execution_count": 20,
   "id": "ad889f02",
   "metadata": {},
   "outputs": [
    {
     "name": "stdout",
     "output_type": "stream",
     "text": [
      "\n",
      " [[ 1  2  3  4]\n",
      " [11 12 13 14]]\n",
      "\n",
      " 1\n",
      "\n",
      " [1 2 3 4]\n",
      "\n",
      " [ 1 11]\n"
     ]
    }
   ],
   "source": [
    "#np.min(array_name, axis= 0 or 1): Returns the indices of the minimum values along an axis...\n",
    "import numpy as np\n",
    "arr=np.array([[1,2,3,4],[11,12,13,14]])\n",
    "print(\"\\n\",arr)\n",
    "print(\"\\n\",np.min(arr))\n",
    "print(\"\\n\",np.min(arr, axis=0))\n",
    "print(\"\\n\",np.min(arr, axis=1))"
   ]
  },
  {
   "cell_type": "markdown",
   "id": "45aaa409",
   "metadata": {},
   "source": [
    "# maximum"
   ]
  },
  {
   "cell_type": "code",
   "execution_count": 21,
   "id": "a424a5ba",
   "metadata": {},
   "outputs": [
    {
     "name": "stdout",
     "output_type": "stream",
     "text": [
      "[1 2 3 4 5 6 7]\n",
      "7\n"
     ]
    }
   ],
   "source": [
    "#np.max(array_name): Returns the indices of the max values along an axis.. (all row and columns).\n",
    "import numpy as np\n",
    "arr=np.array([1,2,3,4,5,6,7])\n",
    "print(arr)\n",
    "print(np.max(arr))"
   ]
  },
  {
   "cell_type": "code",
   "execution_count": 22,
   "id": "fda11875",
   "metadata": {},
   "outputs": [
    {
     "name": "stdout",
     "output_type": "stream",
     "text": [
      "[[ 1  2  3  4]\n",
      " [11 12 13 14]]\n",
      "14\n"
     ]
    }
   ],
   "source": [
    "import numpy as np\n",
    "arr=np.array([[1,2,3,4],[11,12,13,14]])\n",
    "print(arr)\n",
    "print(np.max(arr))"
   ]
  },
  {
   "cell_type": "code",
   "execution_count": 23,
   "id": "a87143cd",
   "metadata": {},
   "outputs": [
    {
     "name": "stdout",
     "output_type": "stream",
     "text": [
      "\n",
      " original [[ 1  2  3  4]\n",
      " [11 12 13 14]]\n",
      "\n",
      " maximum 14\n",
      "\n",
      " maximum accross rows [11 12 13 14]\n",
      "\n",
      " maximum accross columns [ 4 14]\n"
     ]
    }
   ],
   "source": [
    "#np.max(array_name, axis= 0 or 1): Returns the indices of the maximum values along an axis...\n",
    "import numpy as np\n",
    "arr=np.array([[1,2,3,4],[11,12,13,14]])\n",
    "print(\"\\n original\",arr)\n",
    "print(\"\\n maximum\",np.max(arr))\n",
    "print(\"\\n maximum accross rows\",np.max(arr, axis=0))\n",
    "print(\"\\n maximum accross columns\",np.max(arr, axis=1))"
   ]
  },
  {
   "cell_type": "code",
   "execution_count": null,
   "id": "553c9c58",
   "metadata": {},
   "outputs": [],
   "source": []
  }
 ],
 "metadata": {
  "kernelspec": {
   "display_name": "Python 3 (ipykernel)",
   "language": "python",
   "name": "python3"
  },
  "language_info": {
   "codemirror_mode": {
    "name": "ipython",
    "version": 3
   },
   "file_extension": ".py",
   "mimetype": "text/x-python",
   "name": "python",
   "nbconvert_exporter": "python",
   "pygments_lexer": "ipython3",
   "version": "3.9.12"
  }
 },
 "nbformat": 4,
 "nbformat_minor": 5
}
