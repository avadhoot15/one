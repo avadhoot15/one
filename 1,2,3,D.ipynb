{
 "cells": [
  {
   "cell_type": "markdown",
   "id": "3f2e6322",
   "metadata": {},
   "source": [
    "# Load Numpy and check version"
   ]
  },
  {
   "cell_type": "code",
   "execution_count": 2,
   "id": "742ff3c5",
   "metadata": {},
   "outputs": [
    {
     "data": {
      "text/plain": [
       "'1.21.5'"
      ]
     },
     "execution_count": 2,
     "metadata": {},
     "output_type": "execute_result"
    }
   ],
   "source": [
    "import numpy as np\n",
    "np.__version__"
   ]
  },
  {
   "cell_type": "markdown",
   "id": "0d74528b",
   "metadata": {},
   "source": [
    "# creat an 1D array using array function"
   ]
  },
  {
   "cell_type": "code",
   "execution_count": 3,
   "id": "07a101f7",
   "metadata": {},
   "outputs": [
    {
     "name": "stdout",
     "output_type": "stream",
     "text": [
      "[2 3 4 5 6]\n",
      "int32\n",
      "(5,)\n"
     ]
    }
   ],
   "source": [
    "import numpy as np\n",
    "a = np.array([2,3,4,5,6])\n",
    "print(a)\n",
    "print(a.dtype)\n",
    "print(a.shape)"
   ]
  },
  {
   "cell_type": "markdown",
   "id": "e5c1614c",
   "metadata": {},
   "source": [
    "# create a 1D array using arange function"
   ]
  },
  {
   "cell_type": "code",
   "execution_count": 4,
   "id": "434de52d",
   "metadata": {},
   "outputs": [
    {
     "name": "stdout",
     "output_type": "stream",
     "text": [
      "[0 1 2 3 4]\n",
      "int32\n",
      "(5,)\n"
     ]
    }
   ],
   "source": [
    "import numpy as np\n",
    "a = np.arange(5)\n",
    "print(a)\n",
    "print(a.dtype)\n",
    "print(a.shape)"
   ]
  },
  {
   "cell_type": "markdown",
   "id": "db6b2a66",
   "metadata": {},
   "source": [
    "# create 2D array using array function"
   ]
  },
  {
   "cell_type": "code",
   "execution_count": 6,
   "id": "1889053d",
   "metadata": {},
   "outputs": [
    {
     "name": "stdout",
     "output_type": "stream",
     "text": [
      "[[2 3 4 5 6]\n",
      " [5 6 7 8 9]]\n",
      "int32\n",
      "(2, 5)\n"
     ]
    }
   ],
   "source": [
    "import numpy as np\n",
    "a = np.array([[2,3,4,5,6],[5,6,7,8,9]])\n",
    "print(a)\n",
    "print(a.dtype)\n",
    "print(a.shape)"
   ]
  },
  {
   "cell_type": "markdown",
   "id": "ecdca357",
   "metadata": {},
   "source": [
    "# create 2D array using arange function"
   ]
  },
  {
   "cell_type": "code",
   "execution_count": 8,
   "id": "74468c7e",
   "metadata": {},
   "outputs": [
    {
     "name": "stdout",
     "output_type": "stream",
     "text": [
      "[[0 1 2]\n",
      " [3 4 5]\n",
      " [6 7 8]]\n",
      "int32\n",
      "(3, 3)\n"
     ]
    }
   ],
   "source": [
    "import numpy as np\n",
    "a = np.arange(9).reshape(3,3)\n",
    "print(a)\n",
    "print(a.dtype)\n",
    "print(a.shape)"
   ]
  },
  {
   "cell_type": "markdown",
   "id": "b02c601c",
   "metadata": {},
   "source": [
    "# create 3D array using array fuction"
   ]
  },
  {
   "cell_type": "code",
   "execution_count": 3,
   "id": "b6ffe5d4",
   "metadata": {},
   "outputs": [
    {
     "name": "stdout",
     "output_type": "stream",
     "text": [
      "[[[2 3]\n",
      "  [5 6]]\n",
      "\n",
      " [[5 6]\n",
      "  [7 8]]\n",
      "\n",
      " [[2 3]\n",
      "  [5 6]]]\n",
      "int32\n",
      "(3, 2, 2)\n"
     ]
    }
   ],
   "source": [
    "import numpy as np\n",
    "a = np.array([[[2,3],[5,6]],[[5,6],[7,8]],[[2,3],[5,6]]])\n",
    "print(a)\n",
    "print(a.dtype)\n",
    "print(a.shape)"
   ]
  },
  {
   "cell_type": "markdown",
   "id": "97fc07a4",
   "metadata": {},
   "source": [
    "# create an 3D array using arange fuction"
   ]
  },
  {
   "cell_type": "code",
   "execution_count": 5,
   "id": "bd35268e",
   "metadata": {},
   "outputs": [
    {
     "name": "stdout",
     "output_type": "stream",
     "text": [
      "[[[ 0  1]\n",
      "  [ 2  3]]\n",
      "\n",
      " [[ 4  5]\n",
      "  [ 6  7]]\n",
      "\n",
      " [[ 8  9]\n",
      "  [10 11]]]\n",
      "int32\n",
      "(3, 2, 2)\n"
     ]
    }
   ],
   "source": [
    "import numpy as np\n",
    "a = np.arange(12).reshape(3,2,2)\n",
    "print(a)\n",
    "print(a.dtype)\n",
    "print(a.shape)"
   ]
  },
  {
   "cell_type": "markdown",
   "id": "a490524d",
   "metadata": {},
   "source": [
    "# creating array of ones "
   ]
  },
  {
   "cell_type": "code",
   "execution_count": 9,
   "id": "f0edd085",
   "metadata": {},
   "outputs": [
    {
     "name": "stdout",
     "output_type": "stream",
     "text": [
      "[1 1 1 1 1 1 1 1 1 1 1 1]\n",
      "int32\n",
      "(12,)\n"
     ]
    }
   ],
   "source": [
    "import numpy as np\n",
    "a = np.ones(12,dtype=np.int32)\n",
    "print(a)\n",
    "print(a.dtype)\n",
    "print(a.shape)"
   ]
  },
  {
   "cell_type": "code",
   "execution_count": 10,
   "id": "b3c3abc4",
   "metadata": {},
   "outputs": [
    {
     "name": "stdout",
     "output_type": "stream",
     "text": [
      "[[1 1 1]\n",
      " [1 1 1]]\n",
      "int32\n",
      "(2, 3)\n"
     ]
    }
   ],
   "source": [
    "import numpy as np\n",
    "a = np.ones((2,3),dtype=np.int32)\n",
    "print(a)\n",
    "print(a.dtype)\n",
    "print(a.shape)"
   ]
  },
  {
   "cell_type": "markdown",
   "id": "2dc9ba9b",
   "metadata": {},
   "source": [
    "# create an array with random numbers D"
   ]
  },
  {
   "cell_type": "code",
   "execution_count": 16,
   "id": "e16c0929",
   "metadata": {},
   "outputs": [
    {
     "name": "stdout",
     "output_type": "stream",
     "text": [
      "[2 2 2 2 2]\n",
      "int32\n",
      "(5,)\n"
     ]
    }
   ],
   "source": [
    "import numpy as np\n",
    "a = np.random.randint(2,3,size=5)\n",
    "print(a)\n",
    "print(a.dtype)\n",
    "print(a.shape)"
   ]
  },
  {
   "cell_type": "code",
   "execution_count": 20,
   "id": "9c5b6c63",
   "metadata": {},
   "outputs": [
    {
     "name": "stdout",
     "output_type": "stream",
     "text": [
      "[[9 6 7]\n",
      " [9 9 5]]\n"
     ]
    }
   ],
   "source": [
    "import numpy as np\n",
    "a = np.random.randint(5,10,size=(2,3))\n",
    "print(a)"
   ]
  },
  {
   "cell_type": "code",
   "execution_count": 21,
   "id": "d4d494ca",
   "metadata": {},
   "outputs": [
    {
     "name": "stdout",
     "output_type": "stream",
     "text": [
      "[[[9 9 8]\n",
      "  [8 5 9]\n",
      "  [5 5 5]]\n",
      "\n",
      " [[9 8 9]\n",
      "  [9 6 7]\n",
      "  [8 5 6]]\n",
      "\n",
      " [[9 6 8]\n",
      "  [7 5 8]\n",
      "  [7 9 9]]]\n"
     ]
    }
   ],
   "source": [
    "import numpy as np\n",
    "a = np.random.randint(5,10,size=(3,3,3))\n",
    "print(a)"
   ]
  },
  {
   "cell_type": "markdown",
   "id": "423ccdb7",
   "metadata": {},
   "source": [
    "# creating random numbers with upper bond"
   ]
  },
  {
   "cell_type": "code",
   "execution_count": 25,
   "id": "6f31a3c4",
   "metadata": {},
   "outputs": [
    {
     "name": "stdout",
     "output_type": "stream",
     "text": [
      "[ 7 17 25]\n"
     ]
    }
   ],
   "source": [
    "import numpy as np\n",
    "a = np.random.randint(5,[10,20,30])\n",
    "print(a)"
   ]
  },
  {
   "cell_type": "code",
   "execution_count": 27,
   "id": "39035072",
   "metadata": {},
   "outputs": [
    {
     "name": "stdout",
     "output_type": "stream",
     "text": [
      "[[10 13  7]\n",
      " [11 12 14]]\n"
     ]
    }
   ],
   "source": [
    "import numpy as np\n",
    "a = np.random.randint([5,8,6],20,size=(2,3))\n",
    "print(a)"
   ]
  },
  {
   "cell_type": "code",
   "execution_count": 31,
   "id": "f4a14e93",
   "metadata": {},
   "outputs": [
    {
     "name": "stdout",
     "output_type": "stream",
     "text": [
      "[[ 8 10 14]\n",
      " [ 9 15 10]]\n"
     ]
    }
   ],
   "source": [
    "import numpy as np\n",
    "a = np.random.randint((5,6,7),(10,20,30),size=(2,3))\n",
    "print(a)"
   ]
  },
  {
   "cell_type": "markdown",
   "id": "089fd4f1",
   "metadata": {},
   "source": [
    "# random randn and rand function"
   ]
  },
  {
   "cell_type": "code",
   "execution_count": 4,
   "id": "ab125991",
   "metadata": {},
   "outputs": [
    {
     "name": "stdout",
     "output_type": "stream",
     "text": [
      "[-0.0478104   0.53468727  1.19196808]\n",
      "float64\n",
      "(3,)\n"
     ]
    }
   ],
   "source": [
    "import numpy as np\n",
    "a = np.random.randn(3)\n",
    "print(a)\n",
    "print(a.dtype)\n",
    "print(a.shape)"
   ]
  },
  {
   "cell_type": "code",
   "execution_count": 5,
   "id": "da88e7fd",
   "metadata": {},
   "outputs": [
    {
     "name": "stdout",
     "output_type": "stream",
     "text": [
      "[[ 0.47977288  0.73739891 -1.02319045 -1.36968637  1.39101844]\n",
      " [ 1.59074903  1.19137308  0.05806618 -0.11608335 -0.1014277 ]]\n",
      "float64\n",
      "(2, 5)\n"
     ]
    }
   ],
   "source": [
    "import numpy as np\n",
    "a = np.random.randn(2,5)\n",
    "print(a)\n",
    "print(a.dtype)\n",
    "print(a.shape)"
   ]
  },
  {
   "cell_type": "code",
   "execution_count": 11,
   "id": "70dcbf9b",
   "metadata": {},
   "outputs": [
    {
     "name": "stdout",
     "output_type": "stream",
     "text": [
      "[[0.70627899 0.98714931 0.16907242 0.60815548 0.94225248]\n",
      " [0.19261677 0.26581659 0.23984683 0.55328013 0.025551  ]]\n",
      "float64\n",
      "(2, 5)\n"
     ]
    }
   ],
   "source": [
    "import numpy as np\n",
    "a = np.random.rand(2,5)\n",
    "print(a)\n",
    "print(a.dtype)\n",
    "print(a.shape)"
   ]
  },
  {
   "cell_type": "markdown",
   "id": "c91c1216",
   "metadata": {},
   "source": [
    "# array indexing"
   ]
  },
  {
   "cell_type": "code",
   "execution_count": 15,
   "id": "9340cc6a",
   "metadata": {},
   "outputs": [
    {
     "name": "stdout",
     "output_type": "stream",
     "text": [
      "4\n"
     ]
    }
   ],
   "source": [
    "import numpy as np\n",
    "a = np.array([2,3,4,5])\n",
    "print(a[2])"
   ]
  },
  {
   "cell_type": "code",
   "execution_count": 17,
   "id": "b823fc40",
   "metadata": {},
   "outputs": [
    {
     "name": "stdout",
     "output_type": "stream",
     "text": [
      "6\n"
     ]
    }
   ],
   "source": [
    "import numpy as np\n",
    "a = np.array([[2,3,4,5],[9,8,6,7]])\n",
    "print(a[1,2])"
   ]
  },
  {
   "cell_type": "code",
   "execution_count": 19,
   "id": "a3472869",
   "metadata": {},
   "outputs": [
    {
     "name": "stdout",
     "output_type": "stream",
     "text": [
      "7\n"
     ]
    }
   ],
   "source": [
    "import numpy as np\n",
    "a = np.array([[[2,3],[4,5]],[[6,7],[8,9]]])\n",
    "print(a[1,0,1])"
   ]
  },
  {
   "cell_type": "code",
   "execution_count": 20,
   "id": "a8885c38",
   "metadata": {},
   "outputs": [
    {
     "name": "stdout",
     "output_type": "stream",
     "text": [
      "7\n"
     ]
    }
   ],
   "source": [
    "import numpy as np\n",
    "a = np.array([[[2,3],[4,5]],[[6,7],[8,9]]])\n",
    "print(a[-1,0,-1])"
   ]
  },
  {
   "cell_type": "code",
   "execution_count": 21,
   "id": "ec211b21",
   "metadata": {},
   "outputs": [
    {
     "name": "stdout",
     "output_type": "stream",
     "text": [
      "4\n"
     ]
    }
   ],
   "source": [
    "import numpy as np\n",
    "a = np.array([[[2,3],[4,5]],[[6,7],[8,9]]])\n",
    "print(a[-2,-1,-2])"
   ]
  },
  {
   "cell_type": "markdown",
   "id": "609a75f5",
   "metadata": {},
   "source": [
    "# array numpy slicing"
   ]
  },
  {
   "cell_type": "raw",
   "id": "b132916e",
   "metadata": {},
   "source": [
    "slice element from index 1 to index 5 from the following array:"
   ]
  },
  {
   "cell_type": "code",
   "execution_count": 4,
   "id": "769fab80",
   "metadata": {},
   "outputs": [
    {
     "name": "stdout",
     "output_type": "stream",
     "text": [
      "[2 3 4 5]\n"
     ]
    }
   ],
   "source": [
    "import numpy as np\n",
    "a = np.array([1,2,3,4,5])\n",
    "print(a[1:5])"
   ]
  },
  {
   "cell_type": "raw",
   "id": "856fa0bc",
   "metadata": {},
   "source": [
    "slice element from index 4 to the end of the array"
   ]
  },
  {
   "cell_type": "code",
   "execution_count": 5,
   "id": "7a32894a",
   "metadata": {},
   "outputs": [
    {
     "name": "stdout",
     "output_type": "stream",
     "text": [
      "[5 6 7]\n"
     ]
    }
   ],
   "source": [
    "import numpy as np\n",
    "a = np.array([1,2,3,4,5,6,7])\n",
    "print(a[4:])"
   ]
  },
  {
   "cell_type": "raw",
   "id": "515d6041",
   "metadata": {},
   "source": [
    "slice element from the bedinning to  index 4 (not included):"
   ]
  },
  {
   "cell_type": "code",
   "execution_count": 6,
   "id": "3b3ad972",
   "metadata": {},
   "outputs": [
    {
     "name": "stdout",
     "output_type": "stream",
     "text": [
      "[1 2 3 4]\n"
     ]
    }
   ],
   "source": [
    "import numpy as np\n",
    "a = np.array([1,2,3,4,5,6,7])\n",
    "print(a[:4])"
   ]
  },
  {
   "cell_type": "markdown",
   "id": "96b74b86",
   "metadata": {},
   "source": [
    "# negative slicing"
   ]
  },
  {
   "cell_type": "raw",
   "id": "22afba18",
   "metadata": {},
   "source": [
    "slice from the index 3 from the end to the index 1 from the end"
   ]
  },
  {
   "cell_type": "code",
   "execution_count": 8,
   "id": "dc63c460",
   "metadata": {},
   "outputs": [
    {
     "name": "stdout",
     "output_type": "stream",
     "text": [
      "[5 6]\n"
     ]
    }
   ],
   "source": [
    "import numpy as np\n",
    "a = np.array([1,2,3,4,5,6,7])\n",
    "print(a[-3:-1])"
   ]
  },
  {
   "cell_type": "raw",
   "id": "fa2746f4",
   "metadata": {},
   "source": [
    "return every other element from index 1 to index 5"
   ]
  },
  {
   "cell_type": "code",
   "execution_count": 10,
   "id": "d8a34783",
   "metadata": {},
   "outputs": [
    {
     "name": "stdout",
     "output_type": "stream",
     "text": [
      "[2 4]\n"
     ]
    }
   ],
   "source": [
    "import numpy as np\n",
    "a = np.array([1,2,3,4,5,6,7])\n",
    "print(a[1:5:2])"
   ]
  },
  {
   "cell_type": "raw",
   "id": "5e9cbae7",
   "metadata": {},
   "source": [
    "return every other element from entire array"
   ]
  },
  {
   "cell_type": "code",
   "execution_count": 13,
   "id": "dbf5e74a",
   "metadata": {},
   "outputs": [
    {
     "name": "stdout",
     "output_type": "stream",
     "text": [
      "[1 3 5 7]\n"
     ]
    }
   ],
   "source": [
    "import numpy as np\n",
    "a = np.array([1,2,3,4,5,6,7])\n",
    "print(a[::2])"
   ]
  },
  {
   "cell_type": "markdown",
   "id": "15e203ef",
   "metadata": {},
   "source": [
    "# slicing 2-D Array"
   ]
  },
  {
   "cell_type": "raw",
   "id": "487286ad",
   "metadata": {},
   "source": [
    "from the second element, slice element from index 1 to index 4 (not inclued):"
   ]
  },
  {
   "cell_type": "code",
   "execution_count": 15,
   "id": "c46846a3",
   "metadata": {},
   "outputs": [
    {
     "name": "stdout",
     "output_type": "stream",
     "text": [
      "[6 7 8]\n"
     ]
    }
   ],
   "source": [
    "import numpy as np\n",
    "a = np.array([[1,2,3,4,5,9],[5,6,7,8,9,0]])\n",
    "print(a[1,1:4])"
   ]
  },
  {
   "cell_type": "raw",
   "id": "8efb8ea0",
   "metadata": {},
   "source": [
    "from both arrays, return index 2:"
   ]
  },
  {
   "cell_type": "code",
   "execution_count": 19,
   "id": "461ccd0f",
   "metadata": {},
   "outputs": [
    {
     "name": "stdout",
     "output_type": "stream",
     "text": [
      "[3 7]\n"
     ]
    }
   ],
   "source": [
    "import numpy as np\n",
    "a = np.array([[1,2,3,4,5,9],[5,6,7,8,9,0]])\n",
    "print(a[0:2,2])"
   ]
  },
  {
   "cell_type": "raw",
   "id": "15dbf4d8",
   "metadata": {},
   "source": [
    "from both elements, slice index 1 to index 4 (not included), this will return 2D array:"
   ]
  },
  {
   "cell_type": "code",
   "execution_count": 21,
   "id": "6d20c2cd",
   "metadata": {},
   "outputs": [
    {
     "name": "stdout",
     "output_type": "stream",
     "text": [
      "[[2 3 4]\n",
      " [6 7 8]]\n"
     ]
    }
   ],
   "source": [
    "import numpy as np\n",
    "a = np.array([[1,2,3,4,5,9],[5,6,7,8,9,0]])\n",
    "print(a[0:,1:4])"
   ]
  },
  {
   "cell_type": "code",
   "execution_count": null,
   "id": "1375db63",
   "metadata": {},
   "outputs": [],
   "source": []
  }
 ],
 "metadata": {
  "kernelspec": {
   "display_name": "Python 3 (ipykernel)",
   "language": "python",
   "name": "python3"
  },
  "language_info": {
   "codemirror_mode": {
    "name": "ipython",
    "version": 3
   },
   "file_extension": ".py",
   "mimetype": "text/x-python",
   "name": "python",
   "nbconvert_exporter": "python",
   "pygments_lexer": "ipython3",
   "version": "3.9.12"
  }
 },
 "nbformat": 4,
 "nbformat_minor": 5
}
