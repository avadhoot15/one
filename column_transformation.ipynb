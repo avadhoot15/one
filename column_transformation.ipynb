{
 "cells": [
  {
   "cell_type": "code",
   "execution_count": 24,
   "id": "857da2dc",
   "metadata": {},
   "outputs": [],
   "source": [
    "import numpy as np\n",
    "import pandas as pd\n"
   ]
  },
  {
   "cell_type": "code",
   "execution_count": 25,
   "id": "824f7bf4",
   "metadata": {},
   "outputs": [],
   "source": [
    "from sklearn.preprocessing import OneHotEncoder\n",
    "from sklearn.preprocessing import OrdinalEncoder\n",
    "from sklearn.impute import SimpleImputer"
   ]
  },
  {
   "cell_type": "code",
   "execution_count": 26,
   "id": "e7344f95",
   "metadata": {},
   "outputs": [],
   "source": [
    "df=pd.read_csv('dataset/covid.csv')"
   ]
  },
  {
   "cell_type": "code",
   "execution_count": 27,
   "id": "0935a10c",
   "metadata": {},
   "outputs": [
    {
     "data": {
      "text/plain": [
       "0     103.0\n",
       "1     100.0\n",
       "2     101.0\n",
       "3      98.0\n",
       "4     101.0\n",
       "      ...  \n",
       "95    104.0\n",
       "96    101.0\n",
       "97    101.0\n",
       "98     98.0\n",
       "99     98.0\n",
       "Name: fever, Length: 100, dtype: float64"
      ]
     },
     "execution_count": 27,
     "metadata": {},
     "output_type": "execute_result"
    }
   ],
   "source": [
    "df['fever']"
   ]
  },
  {
   "cell_type": "code",
   "execution_count": 28,
   "id": "eb9da775",
   "metadata": {},
   "outputs": [
    {
     "data": {
      "text/plain": [
       "age           0\n",
       "gender        0\n",
       "fever        10\n",
       "cough         0\n",
       "city          0\n",
       "has_covid     0\n",
       "dtype: int64"
      ]
     },
     "execution_count": 28,
     "metadata": {},
     "output_type": "execute_result"
    }
   ],
   "source": [
    "df.isnull().sum()"
   ]
  },
  {
   "cell_type": "markdown",
   "id": "bbaf9049",
   "metadata": {},
   "source": [
    "# 1. Aam zindagi"
   ]
  },
  {
   "cell_type": "code",
   "execution_count": 29,
   "id": "31747079",
   "metadata": {},
   "outputs": [
    {
     "data": {
      "text/plain": [
       "(100, 1)"
      ]
     },
     "execution_count": 29,
     "metadata": {},
     "output_type": "execute_result"
    }
   ],
   "source": [
    "#adding simple imputer to fever col\n",
    "si=SimpleImputer()\n",
    "df_fever=si.fit_transform(df[['fever']])\n",
    "df_fever.shape\n",
    "#df_fever"
   ]
  },
  {
   "cell_type": "code",
   "execution_count": 30,
   "id": "53296a5d",
   "metadata": {},
   "outputs": [
    {
     "data": {
      "text/plain": [
       "(100, 1)"
      ]
     },
     "execution_count": 30,
     "metadata": {},
     "output_type": "execute_result"
    }
   ],
   "source": [
    "#ordinal encodeing -> cough\n",
    "oe=OrdinalEncoder(categories=[['Mild','Strong']])\n",
    "df_Cough=oe.fit_transform(df[['cough']])\n",
    "df_Cough.shape\n",
    "#df_cough"
   ]
  },
  {
   "cell_type": "code",
   "execution_count": 31,
   "id": "5625b4aa",
   "metadata": {},
   "outputs": [
    {
     "data": {
      "text/plain": [
       "(100, 4)"
      ]
     },
     "execution_count": 31,
     "metadata": {},
     "output_type": "execute_result"
    }
   ],
   "source": [
    "#OneHotEncoder -> gender,city\n",
    "ohe=OneHotEncoder(drop='first',sparse=False)\n",
    "df_gender_city=ohe.fit_transform(df[['gender','city']])\n",
    "df_gender_city.shape\n",
    "#df_gendercity"
   ]
  },
  {
   "cell_type": "code",
   "execution_count": 32,
   "id": "c5aa4edf",
   "metadata": {},
   "outputs": [
    {
     "data": {
      "text/plain": [
       "(100, 2)"
      ]
     },
     "execution_count": 32,
     "metadata": {},
     "output_type": "execute_result"
    }
   ],
   "source": [
    "#extraction age\n",
    "df_Age=df.drop(columns=['gender','fever','cough','city']).values\n",
    "df_Age.shape\n",
    "#df_Age"
   ]
  },
  {
   "cell_type": "code",
   "execution_count": 36,
   "id": "641f2ded",
   "metadata": {},
   "outputs": [
    {
     "data": {
      "text/plain": [
       "(100, 8)"
      ]
     },
     "execution_count": 36,
     "metadata": {},
     "output_type": "execute_result"
    }
   ],
   "source": [
    "df_transformed=np.concatenate((df_Age,df_fever,df_gender_city,df_Cough),axis=1)\n",
    "#also the test data\n",
    "df_transformed.shape\n",
    "#df_transformed"
   ]
  },
  {
   "cell_type": "code",
   "execution_count": 37,
   "id": "46cb2386",
   "metadata": {},
   "outputs": [],
   "source": [
    "#new_df=pd.dataframe(df_transformed,columns=df.columns)"
   ]
  },
  {
   "cell_type": "markdown",
   "id": "2c71f943",
   "metadata": {},
   "source": [
    "# mentos zindagi"
   ]
  },
  {
   "cell_type": "code",
   "execution_count": 38,
   "id": "e2bdf254",
   "metadata": {},
   "outputs": [],
   "source": [
    "from sklearn.compose import ColumnTransformer"
   ]
  },
  {
   "cell_type": "code",
   "execution_count": 44,
   "id": "8a0ed32d",
   "metadata": {},
   "outputs": [],
   "source": [
    "transformer=ColumnTransformer(transformers=[\n",
    "    ('tnf1',SimpleImputer(),['fever']),\n",
    "    ('tnf2',OrdinalEncoder(categories=[['Mild','Strong']]),['cough']),\n",
    "    ('tnf3',OneHotEncoder(sparse=False,drop='first'),['gender','city'])\n",
    "],remainder='passthrough')"
   ]
  },
  {
   "cell_type": "code",
   "execution_count": 46,
   "id": "9bae6aa3",
   "metadata": {},
   "outputs": [
    {
     "data": {
      "text/plain": [
       "(100, 8)"
      ]
     },
     "execution_count": 46,
     "metadata": {},
     "output_type": "execute_result"
    }
   ],
   "source": [
    "transformer.fit_transform(df).shape"
   ]
  },
  {
   "cell_type": "code",
   "execution_count": 47,
   "id": "ddb85b74",
   "metadata": {},
   "outputs": [],
   "source": [
    "#transformer.get_feature_names()"
   ]
  },
  {
   "cell_type": "code",
   "execution_count": null,
   "id": "484c04df",
   "metadata": {},
   "outputs": [],
   "source": []
  },
  {
   "cell_type": "code",
   "execution_count": 48,
   "id": "0d5552e7",
   "metadata": {},
   "outputs": [],
   "source": [
    "#transformer=ColumsTransformers(transformers=[\n",
    "#       ('tnf1',OneHotEncoder(sparse=False,drop='first'),['gender','city'])\n",
    "# ],remainder='passthrough')"
   ]
  },
  {
   "cell_type": "code",
   "execution_count": null,
   "id": "5b4b4347",
   "metadata": {},
   "outputs": [],
   "source": [
    "#newdf=pd.DataFrame(transformer.fit)"
   ]
  }
 ],
 "metadata": {
  "kernelspec": {
   "display_name": "Python 3 (ipykernel)",
   "language": "python",
   "name": "python3"
  },
  "language_info": {
   "codemirror_mode": {
    "name": "ipython",
    "version": 3
   },
   "file_extension": ".py",
   "mimetype": "text/x-python",
   "name": "python",
   "nbconvert_exporter": "python",
   "pygments_lexer": "ipython3",
   "version": "3.9.12"
  }
 },
 "nbformat": 4,
 "nbformat_minor": 5
}
