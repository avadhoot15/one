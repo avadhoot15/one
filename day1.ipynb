{
 "cells": [
  {
   "cell_type": "markdown",
   "id": "91cf1d4f",
   "metadata": {},
   "source": [
    "# import MySQL.connecter"
   ]
  },
  {
   "cell_type": "code",
   "execution_count": 6,
   "id": "15fa512c",
   "metadata": {},
   "outputs": [],
   "source": [
    "import mysql.connector as con"
   ]
  },
  {
   "cell_type": "markdown",
   "id": "74636724",
   "metadata": {},
   "source": [
    "# connection to database"
   ]
  },
  {
   "cell_type": "code",
   "execution_count": 5,
   "id": "e0e4a7cd",
   "metadata": {},
   "outputs": [
    {
     "name": "stdout",
     "output_type": "stream",
     "text": [
      "<mysql.connector.connection_cext.CMySQLConnection object at 0x00000298500D43D0>\n"
     ]
    }
   ],
   "source": [
    "import mysql.connector as con\n",
    "new_db = con.connect(\n",
    "    host = \"localhost\",\n",
    "    user = \"root\",\n",
    "    password = \"root\"\n",
    ")\n",
    "print(new_db)"
   ]
  },
  {
   "cell_type": "markdown",
   "id": "efab01bf",
   "metadata": {},
   "source": [
    "# creating database"
   ]
  },
  {
   "cell_type": "code",
   "execution_count": 7,
   "id": "367bb4a9",
   "metadata": {},
   "outputs": [],
   "source": [
    "import mysql.connector as con\n",
    "new_db = con.connect(\n",
    "    host = \"localhost\",\n",
    "    user = \"root\",\n",
    "    password = \"root\"\n",
    ")\n",
    "cur = new_db.cursor()\n",
    "cur.execute( \" CREATE DATABASE mydata\")"
   ]
  },
  {
   "cell_type": "markdown",
   "id": "daa8869a",
   "metadata": {},
   "source": [
    "# check if database exists (created)"
   ]
  },
  {
   "cell_type": "code",
   "execution_count": 9,
   "id": "4958d3b1",
   "metadata": {},
   "outputs": [
    {
     "name": "stdout",
     "output_type": "stream",
     "text": [
      "('information_schema',)\n",
      "('mydata',)\n",
      "('mysql',)\n",
      "('performance_schema',)\n",
      "('sakila',)\n",
      "('sys',)\n",
      "('world',)\n"
     ]
    }
   ],
   "source": [
    "import mysql.connector as con\n",
    "new_db = con.connect(\n",
    "    host = \"localhost\",\n",
    "    user = \"root\",\n",
    "    password = \"root\"\n",
    ")\n",
    "cur = new_db.cursor()\n",
    "cur.execute( \" SHOW DATABASES\")\n",
    "for a in cur:\n",
    "    print(a)"
   ]
  },
  {
   "cell_type": "markdown",
   "id": "038b8cef",
   "metadata": {},
   "source": [
    "# creating table and shoe data"
   ]
  },
  {
   "cell_type": "code",
   "execution_count": 31,
   "id": "c1ee345d",
   "metadata": {},
   "outputs": [],
   "source": [
    "import mysql.connector as con\n",
    "new_db = con.connect(\n",
    "    host = \"localhost\",\n",
    "    user = \"root\",\n",
    "    password = \"root\",\n",
    "    database = \"mydata\"\n",
    ")\n",
    "cur = new_db.cursor()\n",
    "query = \"CREATE TABLE student1 (name varchar(200), regno varchar(20))\"\n",
    "cur.execute(query)"
   ]
  },
  {
   "cell_type": "markdown",
   "id": "d7ad4a94",
   "metadata": {},
   "source": [
    "# list tables"
   ]
  },
  {
   "cell_type": "code",
   "execution_count": 26,
   "id": "102e6061",
   "metadata": {},
   "outputs": [
    {
     "name": "stdout",
     "output_type": "stream",
     "text": [
      "('student',)\n"
     ]
    }
   ],
   "source": [
    "import mysql.connector as con\n",
    "new_db = con.connect(\n",
    "    host = \"localhost\",\n",
    "    user = \"root\",\n",
    "    password = \"root\",\n",
    "    database = \"mydata\"\n",
    ")\n",
    "cur = new_db.cursor()\n",
    "query = \"SHOW TABLES\"\n",
    "cur.execute(query)\n",
    "for n in cur:\n",
    "    print(n)"
   ]
  },
  {
   "cell_type": "markdown",
   "id": "970d79a7",
   "metadata": {},
   "source": [
    "# inserting data"
   ]
  },
  {
   "cell_type": "code",
   "execution_count": 33,
   "id": "e7bb82ac",
   "metadata": {},
   "outputs": [
    {
     "name": "stdout",
     "output_type": "stream",
     "text": [
      "1 new row insereted\n"
     ]
    }
   ],
   "source": [
    "import mysql.connector as con\n",
    "new_db = con.connect(\n",
    "    host = \"localhost\",\n",
    "    user = \"root\",\n",
    "    password = \"root\",\n",
    "    database = \"mydata\"\n",
    ")\n",
    "cur = new_db.cursor()\n",
    "query = \"INSERT INTO student1 (name , regno) VALUES  ('jahid','393CS20008') \"\n",
    "cur.execute(query)\n",
    "new_db.commit()\n",
    "a= cur.rowcount\n",
    "print(a,\"new row insereted\")"
   ]
  },
  {
   "cell_type": "markdown",
   "id": "49c57eb5",
   "metadata": {},
   "source": [
    "# inserting multiple values"
   ]
  },
  {
   "cell_type": "code",
   "execution_count": 39,
   "id": "11d91d41",
   "metadata": {},
   "outputs": [
    {
     "name": "stdout",
     "output_type": "stream",
     "text": [
      "3 new row insereted\n"
     ]
    }
   ],
   "source": [
    "import mysql.connector as con\n",
    "new_db = con.connect(\n",
    "    host = \"localhost\",\n",
    "    user = \"root\",\n",
    "    password = \"root\",\n",
    "    database = \"mydata\"\n",
    ")\n",
    "cur = new_db.cursor()\n",
    "query = \"INSERT INTO student1 (name , regno) VALUES (%s , %s)\"\n",
    "values = [ (\"jahid\" ,\"393CS20008\"),\n",
    "           (\"vivek \",\"393CS20032\"),\n",
    "           (\"prajwal\",\"393CS20022\")\n",
    "         ]\n",
    "cur.executemany(query,values)\n",
    "new_db.commit()\n",
    "a= cur.rowcount\n",
    "print(a,\"new row insereted\")"
   ]
  },
  {
   "cell_type": "markdown",
   "id": "dde4f936",
   "metadata": {},
   "source": [
    "# display the record from table"
   ]
  },
  {
   "cell_type": "code",
   "execution_count": 42,
   "id": "e04d5a92",
   "metadata": {},
   "outputs": [
    {
     "name": "stdout",
     "output_type": "stream",
     "text": [
      "('rahul', '393CS20008')\n",
      "('jahid', '393CS20008')\n",
      "('jahid', '393CS20008')\n",
      "('vivek ', '393CS20032')\n",
      "('prajwal', '393CS20022')\n"
     ]
    }
   ],
   "source": [
    "import mysql.connector as con\n",
    "new_db = con.connect(\n",
    "    host = \"localhost\",\n",
    "    user = \"root\",\n",
    "    password = \"root\",\n",
    "    database = \"mydata\"\n",
    ")\n",
    "cur = new_db.cursor()\n",
    "query = \"SELECT * FROM  student1\"\n",
    "cur.execute(query)\n",
    "for n in cur:\n",
    "    print(n)"
   ]
  },
  {
   "cell_type": "markdown",
   "id": "e173da87",
   "metadata": {},
   "source": [
    "# display particular record from database"
   ]
  },
  {
   "cell_type": "code",
   "execution_count": 1,
   "id": "86c95f2b",
   "metadata": {},
   "outputs": [
    {
     "name": "stdout",
     "output_type": "stream",
     "text": [
      "('rahul',)\n",
      "('jahid',)\n",
      "('jahid',)\n",
      "('vivek ',)\n",
      "('prajwal',)\n"
     ]
    }
   ],
   "source": [
    "import mysql.connector as con\n",
    "new_db = con.connect(\n",
    "    host = \"localhost\",\n",
    "    user = \"root\",\n",
    "    password = \"root\",\n",
    "    database = \"mydata\"\n",
    ")\n",
    "cur = new_db.cursor()\n",
    "query = \"SELECT name FROM  student1\"\n",
    "cur.execute(query)\n",
    "for n in cur:\n",
    "    print(n)"
   ]
  },
  {
   "cell_type": "code",
   "execution_count": null,
   "id": "80b969e2",
   "metadata": {},
   "outputs": [],
   "source": []
  }
 ],
 "metadata": {
  "kernelspec": {
   "display_name": "Python 3 (ipykernel)",
   "language": "python",
   "name": "python3"
  },
  "language_info": {
   "codemirror_mode": {
    "name": "ipython",
    "version": 3
   },
   "file_extension": ".py",
   "mimetype": "text/x-python",
   "name": "python",
   "nbconvert_exporter": "python",
   "pygments_lexer": "ipython3",
   "version": "3.9.12"
  }
 },
 "nbformat": 4,
 "nbformat_minor": 5
}
